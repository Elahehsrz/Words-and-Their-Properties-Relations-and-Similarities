{
  "nbformat": 4,
  "nbformat_minor": 0,
  "metadata": {
    "colab": {
      "provenance": [],
      "authorship_tag": "ABX9TyMHFLRoXAjoRzq1AFokemDg",
      "include_colab_link": true
    },
    "kernelspec": {
      "name": "python3",
      "display_name": "Python 3"
    },
    "language_info": {
      "name": "python"
    },
    "accelerator": "GPU"
  },
  "cells": [
    {
      "cell_type": "markdown",
      "metadata": {
        "id": "view-in-github",
        "colab_type": "text"
      },
      "source": [
        "<a href=\"https://colab.research.google.com/github/Elahehsrz/Words-and-Their-Properties-Relations-and-Similarities/blob/main/2_K_similar_words.ipynb\" target=\"_parent\"><img src=\"https://colab.research.google.com/assets/colab-badge.svg\" alt=\"Open In Colab\"/></a>"
      ]
    },
    {
      "cell_type": "code",
      "metadata": {
        "id": "ucW-pAvInv6i"
      },
      "source": [
        "from collections import defaultdict\n",
        "import csv\n",
        "import numpy as np\n",
        "from numpy import dot\n",
        "from numpy.linalg import norm"
      ],
      "execution_count": null,
      "outputs": []
    },
    {
      "cell_type": "code",
      "metadata": {
        "colab": {
          "base_uri": "https://localhost:8080/"
        },
        "id": "nZ6ixcchn8-a",
        "outputId": "537a670b-4915-48ad-88e9-37a37a7d127a"
      },
      "source": [
        "from google.colab import drive\n",
        "\n",
        "drive.mount('/content/gdrive')"
      ],
      "execution_count": null,
      "outputs": [
        {
          "output_type": "stream",
          "name": "stdout",
          "text": [
            "Mounted at /content/gdrive\n"
          ]
        }
      ]
    },
    {
      "cell_type": "code",
      "metadata": {
        "colab": {
          "base_uri": "https://localhost:8080/"
        },
        "id": "Z9UFM4uOoHG6",
        "outputId": "3860570c-9640-431d-e991-4f7bfdf5bdeb"
      },
      "source": [
        "freq=[]\n",
        "\n",
        "num=0\n",
        "with open(\"/content/gdrive/MyDrive/Colab Notebooks/df3.csv\", 'r') as f:\n",
        "    reader = csv.reader(f)\n",
        "    next(reader, None)\n",
        "    for row in reader:\n",
        "        freq.append(float(row[2]))\n",
        "        num+=1\n",
        "    \n",
        "min_x= min(freq)\n",
        "max_x=max(freq)\n",
        "\n",
        "normalized_freq={}\n",
        "for x in freq:\n",
        "    normalized_freq[x]=(x-min_x)/(max_x-min_x)   \n",
        "\n",
        "for x in freq[:5]:\n",
        "    print(x, \"========>\",normalized_freq[x])\n",
        "     "
      ],
      "execution_count": null,
      "outputs": [
        {
          "output_type": "stream",
          "name": "stdout",
          "text": [
            "number of all rows: 4204173\n",
            "347.0 ========> 7.780522336307536e-06\n",
            "443.0 ========> 1.2896482228674135e-05\n",
            "403.0 ========> 1.0764832273521386e-05\n",
            "538.0 ========> 1.7959150872161913e-05\n",
            "405.0 ========> 1.0871414771279022e-05\n"
          ]
        }
      ]
    },
    {
      "cell_type": "code",
      "metadata": {
        "id": "uYkubMW7tjEy"
      },
      "source": [
        "rep= dict()\n",
        "target=set()\n",
        "context=set()\n",
        "vocab=set()\n",
        "\n",
        "with open(\"/content/gdrive/MyDrive/Colab Notebooks/df3.csv\", 'r') as f:\n",
        "\n",
        "    reader = csv.reader(f)\n",
        "\n",
        "    next(reader, None)\n",
        "    \n",
        "    for idx, row in enumerate(reader):\n",
        "        \n",
        "        if idx < 50000:\n",
        "           target.add(row[0])\n",
        "           context.add(row[1])\n",
        "           rep[(row[0], row[1])]= normalized_freq[float(row[2])]"
      ],
      "execution_count": null,
      "outputs": []
    },
    {
      "cell_type": "code",
      "metadata": {
        "id": "cz57KXQLt4Pc"
      },
      "source": [
        "vec_target=defaultdict(list)\n",
        "\n",
        "for i in target:\n",
        "    for j in context:\n",
        "\n",
        "        if (i,j) in rep:\n",
        "\n",
        "            vec_target[i].append(rep[(i,j)])\n",
        "\n",
        "        if (i,j) not in rep:\n",
        "            vec_target[i].append(0)"
      ],
      "execution_count": null,
      "outputs": []
    },
    {
      "cell_type": "code",
      "metadata": {
        "id": "fUyd2JtH0Inm"
      },
      "source": [
        "def cosine(word1, word2):\n",
        "\n",
        "    v1= vec_target[word1]\n",
        "    v2= vec_target[word2]\n",
        "\n",
        "    cosine= dot(v1, v2) / (norm(v1) * norm(v2))\n",
        "    return cosine"
      ],
      "execution_count": null,
      "outputs": []
    },
    {
      "cell_type": "code",
      "metadata": {
        "id": "iDIy2ycE0L4f"
      },
      "source": [
        "distnace_dict=defaultdict(list)\n",
        "\n",
        "\n",
        "for t1 in target:\n",
        "    for t2 in target:\n",
        "\n",
        "      if t1==t2:\n",
        "         continue\n",
        "\n",
        "      cos_sim= cosine(t1,t2 )\n",
        "\n",
        "      distnace_dict[t1].append((t2, cos_sim))"
      ],
      "execution_count": null,
      "outputs": []
    },
    {
      "cell_type": "code",
      "metadata": {
        "id": "YmLkybWL0PNG"
      },
      "source": [
        "import random\n",
        "\n",
        "k=10\n",
        "\n",
        "sim_dict=defaultdict(list)\n",
        "\n",
        "sim_avg=defaultdict(list)\n",
        "\n",
        "for i in target:\n",
        "\n",
        "    sorted_tr=sorted( distnace_dict[i], key=lambda x: x[1], reverse=True)\n",
        "\n",
        "    for item in sorted_tr[:k]:\n",
        "\n",
        "        sim_dict[i].append(item[0])\n",
        "        sim_avg[i].append(item[1])\n",
        "\n",
        "for i in range(200):\n",
        "    target_w= random.choice(list(target))\n",
        "    print(target_w, \"=============>\", sim_dict[target_w], \"   avg sim:\", np.mean(sim_avg[target_w]))"
      ],
      "execution_count": null,
      "outputs": []
    }
  ]
}